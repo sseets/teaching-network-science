{
  "nbformat": 4,
  "nbformat_minor": 0,
  "metadata": {
    "colab": {
      "provenance": [],
      "include_colab_link": true
    },
    "kernelspec": {
      "name": "python3",
      "display_name": "Python 3"
    },
    "language_info": {
      "name": "python"
    }
  },
  "cells": [
    {
      "cell_type": "markdown",
      "metadata": {
        "id": "view-in-github",
        "colab_type": "text"
      },
      "source": [
        "<a href=\"https://colab.research.google.com/github/sseets/teaching-network-science/blob/main/hw0_report.ipynb\" target=\"_parent\"><img src=\"https://colab.research.google.com/assets/colab-badge.svg\" alt=\"Open In Colab\"/></a>"
      ]
    },
    {
      "cell_type": "markdown",
      "source": [
        "The following code is responsible for the `Open in Colab` blue button.\n",
        "```\n",
        "[![Open in Colab](https://colab.research.google.com/assets/colab-badge.svg)](https://colab.research.google.com/github/anwala/teaching-network-science/blob/main/spring-2023/week-1/data_340_02_report_template.ipynb)\n",
        "```\n",
        "[![Open in Colab](https://colab.research.google.com/assets/colab-badge.svg)](https://colab.research.google.com/github/sseets/DATA340/hw0/hw0_report.ipynb)"
      ],
      "metadata": {
        "id": "xTdmMKYmwWOV"
      }
    },
    {
      "cell_type": "markdown",
      "source": [
        "# HW0\n",
        "### Skyler Seets\n",
        "### DATA 340-02, Spring 2023\n",
        "### February 2, 2023\n"
      ],
      "metadata": {
        "id": "cnaJOC71wJvb"
      }
    },
    {
      "cell_type": "markdown",
      "source": [
        "# Q1\n",
        "\n",
        "## Answer\n",
        "\n",
        "The photo below is a screenshot of my Github repository for the class DATA340: Network Science.\n",
        "\n",
        "![\\label{fig:web-growth}](https://raw.githubusercontent.com/sseets/DATA340/hw0/github_repo_screenshot.png)\n"
      ],
      "metadata": {
        "id": "N2VNck0DylKe"
      }
    },
    {
      "cell_type": "code",
      "source": [
        "from pandas.io.stata import CategoricalConversionWarning\n",
        "%matplotlib inline\n",
        "%config InlineBackend.figure_format = 'retina'\n",
        "import matplotlib as mpl\n",
        "mpl.rcParams['figure.dpi'] = 120\n",
        "import matplotlib.pyplot as plt\n",
        "import warnings\n",
        "warnings.simplefilter(action='ignore', category=FutureWarning)"
      ],
      "metadata": {
        "id": "gMfPsTR0zJrJ"
      },
      "execution_count": 1,
      "outputs": []
    },
    {
      "cell_type": "markdown",
      "source": [
        "The table below shows the schedule for our first four weeks of class.  \n",
        "\n",
        "|Week |\tLecture Dates\t| Topic| Homeworks (Date assigned -- Due Date)\n",
        "|:---|:---|:---|:---|\n",
        "|1|Jan 26 |Introductions\t| HW0 - Writing reports, Jan 26 -- Feb 2|\n",
        "|2|Jan 31 & Feb 2| Network Elements |\tPython Google Colab notebook , HW1 - Network elements, Feb 2 -- 14 |\n",
        "|3|Feb 7 & 9\t| Network Elements\n",
        "|2|Feb 14 & 16| Small Worlds| Python Google Colab notebook, HW2 - Small worlds, Feb 16 -- 23"
      ],
      "metadata": {
        "id": "IZ2yQEolpc5R"
      }
    },
    {
      "cell_type": "markdown",
      "source": [
        "## Discussion\n",
        "\n",
        "In answering this question, I edited the text of the template so that it corresponded with the pathway to a screenshot I uploaded for the image and the correct table components as expressed on the syllabus. I copied code from a previous assignment in a different class for the code section. I did not consult any outside resources.\n",
        "\n",
        "# References\n",
        "\n",
        "* Piazza, <https://piazza.com/class/lae695p1c2u5y7/post/11>\n",
        "* Geeksforgeeks, <https://www.geeksforgeeks.org/how-to-upload-project-on-github-from-google-colab/>\n",
        "* Towards Data Science, <https://towardsdatascience.com/tagged/network-science>"
      ],
      "metadata": {
        "id": "CL4_WDbOzkGK"
      }
    }
  ]
}